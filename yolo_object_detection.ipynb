{
  "nbformat": 4,
  "nbformat_minor": 0,
  "metadata": {
    "colab": {
      "name": "yoyo dection.ipynb",
      "provenance": []
    },
    "kernelspec": {
      "name": "python3",
      "display_name": "Python 3"
    },
    "accelerator": "GPU"
  },
  "cells": [
    {
      "cell_type": "code",
      "metadata": {
        "id": "oDYfAedIn1Ff",
        "colab_type": "code",
        "colab": {}
      },
      "source": [
        "!git clone https://github.com/pjreddie/darknet"
      ],
      "execution_count": 0,
      "outputs": []
    },
    {
      "cell_type": "code",
      "metadata": {
        "id": "iFUjJ6dgn59J",
        "colab_type": "code",
        "colab": {}
      },
      "source": [
        "cd darknet"
      ],
      "execution_count": 0,
      "outputs": []
    },
    {
      "cell_type": "code",
      "metadata": {
        "id": "m4HBaQQOn9IZ",
        "colab_type": "code",
        "colab": {}
      },
      "source": [
        "!sed -i 's/GPU=0/GPU=1/g' Makefile"
      ],
      "execution_count": 0,
      "outputs": []
    },
    {
      "cell_type": "code",
      "metadata": {
        "id": "XXTk7FQAn-gR",
        "colab_type": "code",
        "colab": {}
      },
      "source": [
        "!make"
      ],
      "execution_count": 0,
      "outputs": []
    },
    {
      "cell_type": "code",
      "metadata": {
        "id": "_il_1eEcoAIc",
        "colab_type": "code",
        "colab": {}
      },
      "source": [
        "!wget https://pjreddie.com/media/files/yolov3.weights"
      ],
      "execution_count": 0,
      "outputs": []
    },
    {
      "cell_type": "code",
      "metadata": {
        "id": "WTcuRRQyoPTp",
        "colab_type": "code",
        "colab": {}
      },
      "source": [
        "!pip install opencv-python"
      ],
      "execution_count": 0,
      "outputs": []
    },
    {
      "cell_type": "code",
      "metadata": {
        "id": "365prP9Ooj9C",
        "colab_type": "code",
        "colab": {}
      },
      "source": [
        "from google.colab import drive\n",
        "drive.mount('/content/gdrive')"
      ],
      "execution_count": 0,
      "outputs": []
    },
    {
      "cell_type": "code",
      "metadata": {
        "id": "JtvvuvuTrceO",
        "colab_type": "code",
        "colab": {}
      },
      "source": [
        "import numpy as np\n",
        "import cv2\n",
        "import matplotlib.pyplot as plt\n",
        "import os.path\n",
        "import imageio"
      ],
      "execution_count": 0,
      "outputs": []
    },
    {
      "cell_type": "code",
      "metadata": {
        "id": "srFJ8TqsSW1D",
        "colab_type": "code",
        "colab": {}
      },
      "source": [
        "output = '/content/gdrive/My Drive/COURSES/PSYCH221/images/new_test/yoyo_result/'"
      ],
      "execution_count": 0,
      "outputs": []
    },
    {
      "cell_type": "code",
      "metadata": {
        "id": "qfH4aFESDcGt",
        "colab_type": "code",
        "colab": {}
      },
      "source": [
        " if not os.path.exists(output):\n",
        "        os.mkdir(output)"
      ],
      "execution_count": 0,
      "outputs": []
    },
    {
      "cell_type": "code",
      "metadata": {
        "id": "z9iAEKA8oW1Z",
        "colab_type": "code",
        "colab": {}
      },
      "source": [
        "%%capture cap --no-stderr\n",
        "!./darknet detect cfg/yolov3.cfg yolov3.weights /content/gdrive/My\\ Drive/COURSES/PSYCH221/images/result_pix2pix/20/GOPR0384_11_00_000002.png"
      ],
      "execution_count": 0,
      "outputs": []
    },
    {
      "cell_type": "code",
      "metadata": {
        "id": "iIyb038I1Lw3",
        "colab_type": "code",
        "colab": {}
      },
      "source": [
        "result = []\n",
        "tmp = cap.stdout.split(': ')\n",
        "for i in range(2,len(tmp)):\n",
        "   result = np.append(result, int(tmp[i].split('%')[0]))\n",
        "print('mean:' + str(np.round(np.mean(result),2)))\n",
        "print('num:' + str(len(result)))\n",
        "fig,ax = plt.subplots()\n",
        "ax.tick_params(labelbottom=\"off\",bottom=\"off\")\n",
        "ax.tick_params(labelleft=\"off\",left=\"off\")\n",
        "ax.set_xticklabels([]) \n",
        "ax.axis('off')\n",
        "\n",
        "file = './predictions.jpg'\n",
        "if os.path.exists(file):\n",
        "  img = cv2.imread(file)\n",
        "  show_img = cv2.cvtColor(img, cv2.COLOR_BGR2RGB) \n",
        "  plt.imshow(show_img)\n",
        "  imageio.imwrite(output + 'unet.png', img)"
      ],
      "execution_count": 0,
      "outputs": []
    }
  ]
}